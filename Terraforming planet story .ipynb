{
  "nbformat": 4,
  "nbformat_minor": 0,
  "metadata": {
    "colab": {
      "provenance": [],
      "toc_visible": true,
      "authorship_tag": "ABX9TyOP4WDgcvzIz0vXeOuIWIZw",
      "include_colab_link": true
    },
    "kernelspec": {
      "name": "python3",
      "display_name": "Python 3"
    },
    "language_info": {
      "name": "python"
    }
  },
  "cells": [
    {
      "cell_type": "markdown",
      "metadata": {
        "id": "view-in-github",
        "colab_type": "text"
      },
      "source": [
        "<a href=\"https://colab.research.google.com/github/teslaeco/ChatGpu-/blob/main/Terraforming%20planet%20story%20.ipynb\" target=\"_parent\"><img src=\"https://colab.research.google.com/assets/colab-badge.svg\" alt=\"Open In Colab\"/></a>"
      ]
    },
    {
      "cell_type": "code",
      "execution_count": null,
      "metadata": {
        "colab": {
          "base_uri": "https://localhost:8080/",
          "height": 106
        },
        "id": "88HSzEi2Wq4D",
        "outputId": "3ec03e11-2170-4419-b141-387020c97211"
      },
      "outputs": [
        {
          "output_type": "error",
          "ename": "IndentationError",
          "evalue": "unexpected indent (<ipython-input-2-8f42a444a22a>, line 41)",
          "traceback": [
            "\u001b[0;36m  File \u001b[0;32m\"<ipython-input-2-8f42a444a22a>\"\u001b[0;36m, line \u001b[0;32m41\u001b[0m\n\u001b[0;31m    ax = fig.add_subplot(111, projection='3d')\u001b[0m\n\u001b[0m    ^\u001b[0m\n\u001b[0;31mIndentationError\u001b[0m\u001b[0;31m:\u001b[0m unexpected indent\n"
          ]
        }
      ],
      "source": [
        "# Instalacja wymaganych bibliotek\n",
        "!pip install matplotlib numpy pillow\n",
        "\n",
        "# Importowanie bibliotek\n",
        "from mpl_toolkits.mplot3d import Axes3D\n",
        "from matplotlib import pyplot as plt\n",
        "import numpy as np\n",
        "from PIL import Image\n",
        "import os\n",
        "import subprocess\n",
        "\n",
        "# Ścieżki i ustawienia\n",
        "output_dir = \"planet_frames_3d\"  # Folder na klatki\n",
        "num_frames = 120  # Liczba klatek\n",
        "uploaded_texture = \"uploaded_texture.png\"  # Wczytana tekstura /content/texture.jpg\n",
        "\n",
        "output_video_path = \"planet_animation_3d.mp4\"\n",
        "\n",
        "# Zapisywanie wgranego pliku\n",
        "from google.colab import files\n",
        "uploaded = files.upload()  # Wgraj przesłany plik tutaj\n",
        "for filename in uploaded.keys():\n",
        "    os.rename(filename, uploaded_texture)\n",
        "\n",
        "    # Upewnij się, że folder na klatki istnieje\n",
        "    if not os.path.exists(output_dir):\n",
        "        os.makedirs(output_dir)\n",
        "\n",
        "        # Wczytanie tekstury\n",
        "        texture = np.array(Image.open(uploaded_texture).resize((512, 256))) / 255.0  # Normalizacja kolorów (0-1)\n",
        "\n",
        "        # Generowanie siatki sfery\n",
        "        phi, theta = np.linspace(0, np.pi, 256), np.linspace(0, 2 * np.pi, 512)\n",
        "        phi, theta = np.meshgrid(phi, theta)\n",
        "        x = np.sin(phi) * np.cos(theta)\n",
        "        y = np.sin(phi) * np.sin(theta)\n",
        "        z = np.cos(phi)\n",
        "\n",
        "        # Generowanie klatek\n",
        "        for frame in range(num_frames):\n",
        "            fig = plt.figure(figsize=(6, 6))\n",
        "                ax = fig.add_subplot(111, projection='3d')\n",
        "\n",
        "                    # Obrót planety\n",
        "                        rotation_angle = frame * (360 / num_frames)\n",
        "                            ax.plot_surface(\n",
        "                                    x, y, z, rstride=1, cstride=1, facecolors=texture, shade=False\n",
        "                                        )\n",
        "                                            ax.view_init(elev=10, azim=rotation_angle)  # Obrót widoku\n",
        "\n",
        "                                                # Ustawienia osi\n",
        "                                                    ax.set_axis_off()\n",
        "                                                        ax.set_xlim([-1, 1])\n",
        "                                                            ax.set_ylim([-1, 1])\n",
        "                                                                ax.set_zlim([-1, 1])\n",
        "\n",
        "                                                                    # Zapis klatki\n",
        "                                                                        frame_path = os.path.join(output_dir, f\"frame_{frame:03d}.png\")\n",
        "                                                                            plt.savefig(frame_path, dpi=100, bbox_inches='tight', pad_inches=0)\n",
        "                                                                                plt.close()\n",
        "\n",
        "                                                                                print(f\"Klatki zostały zapisane w folderze: {output_dir}\")\n",
        "\n",
        "                                                                                # Tworzenie wideo z klatek przy użyciu FFMPEG\n",
        "                                                                                print(\"Tworzenie wideo...\")\n",
        "                                                                                ffmpeg_command = [\n",
        "                                                                                    \"ffmpeg\",\n",
        "                                                                                        \"-y\",\n",
        "                                                                                            \"-framerate\", \"24\",  # 24 FPS\n",
        "                                                                                                \"-i\", f\"{output_dir}/frame_%03d.png\",\n",
        "                                                                                                    \"-c:v\", \"libx264\",\n",
        "                                                                                                        \"-pix_fmt\", \"yuv420p\",\n",
        "                                                                                                            output_video_path\n",
        "                                                                                                            ]\n",
        "                                                                                                            subprocess.run(ffmpeg_command)\n",
        "                                                                                                            print(f\"Animacja zapisana jako: {output_video_path}\")\n",
        "\n",
        "                                                                                                            # Pobieranie wygenerowanego wideo\n",
        "                                                                                                            from google.colab import files\n",
        "                                                                                                            files.download(output_video_path)"
      ]
    },
    {
      "cell_type": "code",
      "source": [
        "from google.colab import drive\n",
        "drive.mount('/content/drive')"
      ],
      "metadata": {
        "colab": {
          "base_uri": "https://localhost:8080/"
        },
        "id": "i2e2U1FJcn5E",
        "outputId": "4b42f598-6bd0-43e5-9023-6c3693b24d68"
      },
      "execution_count": null,
      "outputs": [
        {
          "output_type": "stream",
          "name": "stdout",
          "text": [
            "Drive already mounted at /content/drive; to attempt to forcibly remount, call drive.mount(\"/content/drive\", force_remount=True).\n"
          ]
        }
      ]
    }
  ]
}